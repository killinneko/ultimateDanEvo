{
 "cells": [
  {
   "cell_type": "code",
   "execution_count": 1,
   "id": "b3e58baf",
   "metadata": {},
   "outputs": [],
   "source": [
    "import cv2\n",
    "import numpy as np"
   ]
  },
  {
   "cell_type": "code",
   "execution_count": 2,
   "id": "885c3abb",
   "metadata": {},
   "outputs": [
    {
     "name": "stdout",
     "output_type": "stream",
     "text": [
      "It is not same FPS.\n",
      "target video's FPS : 10.0\n"
     ]
    }
   ],
   "source": [
    "target_vid =  cv2.VideoCapture(\"mv/fps10_afleg.mp4\")\n",
    "\n",
    "if target_vid.get(cv2.CAP_PROP_FPS) != 0:\n",
    "    print(\"It is not same FPS.\")\n",
    "    print(\"target video's FPS : \"+ str(target_vid.get(cv2.CAP_PROP_FPS)))"
   ]
  },
  {
   "cell_type": "code",
   "execution_count": 3,
   "id": "c021224b",
   "metadata": {},
   "outputs": [],
   "source": [
    "frames =  0\n",
    "target_success, target_img = target_vid.read()\n",
    "array =  np.reshape(target_img,(1,int(target_vid.get(cv2.CAP_PROP_FRAME_HEIGHT)),int(target_vid.get(cv2.CAP_PROP_FRAME_WIDTH)),3))\n",
    "\n",
    "\n",
    "while True:\n",
    "  target_success, target_img = target_vid.read()\n",
    "  if target_success == False:\n",
    "    break  \n",
    "  height, width,channel =  target_img.shape\n",
    "\n",
    "  frame = np.reshape(target_img,(1,int(target_vid.get(cv2.CAP_PROP_FRAME_HEIGHT)),int(target_vid.get(cv2.CAP_PROP_FRAME_WIDTH)),3))       \n",
    "  # array = np.append(array,frame,axis=0)\n",
    "  \n",
    "  cv2.putText(target_img, str(frames), (50, 100), cv2.FONT_HERSHEY_SIMPLEX, 3.0, (255, 0, 255), thickness=2)\n",
    "  cv2.imshow(\"Image\", target_img)\n",
    "\n",
    "  if cv2.waitKey(1) & 0xFF == ord('q'):\n",
    "        break \n",
    "\n",
    "  if frames == 455:\n",
    "    break\n",
    "  frames = frames + 1\n",
    "target_vid.release()"
   ]
  }
 ],
 "metadata": {
  "kernelspec": {
   "display_name": "mediapipe",
   "language": "python",
   "name": "python3"
  },
  "language_info": {
   "codemirror_mode": {
    "name": "ipython",
    "version": 3
   },
   "file_extension": ".py",
   "mimetype": "text/x-python",
   "name": "python",
   "nbconvert_exporter": "python",
   "pygments_lexer": "ipython3",
   "version": "3.9.15"
  },
  "vscode": {
   "interpreter": {
    "hash": "a0ba41b70675594d343dfa1ccdee2f3960697b61ddc114f4b52eb71cd81cc533"
   }
  }
 },
 "nbformat": 4,
 "nbformat_minor": 5
}
