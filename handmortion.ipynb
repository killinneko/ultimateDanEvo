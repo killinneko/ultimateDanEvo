{
 "cells": [
  {
   "cell_type": "code",
   "execution_count": 1,
   "id": "febf0f4a",
   "metadata": {},
   "outputs": [],
   "source": [
    "import cv2\n",
    "import mediapipe as mp\n",
    "import time\n",
    "import numpy as np\n",
    "from sklearn.metrics.pairwise import cosine_similarity\n",
    "import time"
   ]
  },
  {
   "cell_type": "code",
   "execution_count": 3,
   "id": "885c3abb",
   "metadata": {},
   "outputs": [],
   "source": [
    "mp_drawing = mp.solutions.drawing_utils\n",
    "mp_drawing_styles = mp.solutions.drawing_styles\n",
    "mp_pose = mp.solutions.pose\n",
    "mp_hands = mp.solutions.hands\n",
    "hands = mp_hands.Hands()\n",
    "\n",
    "cap = cv2.VideoCapture(1)"
   ]
  },
  {
   "cell_type": "code",
   "execution_count": 3,
   "id": "5dd1a62a",
   "metadata": {},
   "outputs": [],
   "source": [
    "def landmark2np(hand_landmarks):\n",
    "    li = []\n",
    "    for j in (hand_landmarks.landmark):\n",
    "        li.append([j.x, j.y, j.z])\n",
    "\n",
    "    return np.array(li) - li[0]\n",
    "\n",
    "\n",
    "def manual_cos(A, B):\n",
    "    dot = np.sum(A*B, axis=-1)\n",
    "    A_norm = np.linalg.norm(A, axis=-1)\n",
    "    B_norm = np.linalg.norm(B, axis=-1)\n",
    "    cos = dot / (A_norm*B_norm+1e-7)\n",
    "    print(cos[1:].mean())\n",
    "\n",
    "    return cos[1:].mean()"
   ]
  },
  {
   "cell_type": "code",
   "execution_count": 4,
   "id": "801e221e",
   "metadata": {},
   "outputs": [],
   "source": [
    "saved_mortion = [None, None, None]\n",
    "start = -100\n",
    "score = [0]\n",
    "saved_no = 0"
   ]
  },
  {
   "cell_type": "code",
   "execution_count": 4,
   "id": "c021224b",
   "metadata": {},
   "outputs": [
    {
     "ename": "",
     "evalue": "",
     "output_type": "error",
     "traceback": [
      "\u001b[1;31m現在のセルまたは前のセルでコードを実行中に、カーネルがクラッシュしました。エラーの原因を特定するには、セル内のコードを確認してください。詳細については、<a href='https://aka.ms/vscodeJupyterKernelCrash'>こちら</a> をクリックしてください。さらなる詳細については、Jupyter [log] (command:jupyter.viewOutput) を参照してください。"
     ]
    }
   ],
   "source": [
    "while True:\n",
    "    _, img = cap.read()\n",
    "    imgRGB = cv2.cvtColor(img, cv2.COLOR_BGR2RGB)\n",
    "    results = hands.process(imgRGB)\n",
    "\n",
    "    if results.multi_hand_landmarks:\n",
    "        for hand_landmarks in results.multi_hand_landmarks:\n",
    "            for i, landmark in enumerate(hand_landmarks.landmark):\n",
    "                height, width, channel = img.shape\n",
    "                cx = int(landmark.x * width)\n",
    "                cy = int(landmark.y * height)\n",
    "                cv2.circle(img, center=(cx, cy), radius=4, color=(100, 250, 100),thickness=-1)\n",
    "            # mp_drawing.draw_landmarks(img, hand_landmarks, mp_hands.HAND_CONNECTIONS)\n",
    "\n",
    "    cv2.imshow(\"Image\", img)\n",
    "    if cv2.waitKey(1) & 0xFF == ord('q'):\n",
    "        cap.release()\n",
    "        break"
   ]
  }
 ],
 "metadata": {
  "kernelspec": {
   "display_name": "mediapipe",
   "language": "python",
   "name": "python3"
  },
  "language_info": {
   "codemirror_mode": {
    "name": "ipython",
    "version": 3
   },
   "file_extension": ".py",
   "mimetype": "text/x-python",
   "name": "python",
   "nbconvert_exporter": "python",
   "pygments_lexer": "ipython3",
   "version": "3.9.15 (main, Nov 24 2022, 14:39:17) [MSC v.1916 64 bit (AMD64)]"
  },
  "vscode": {
   "interpreter": {
    "hash": "a0ba41b70675594d343dfa1ccdee2f3960697b61ddc114f4b52eb71cd81cc533"
   }
  }
 },
 "nbformat": 4,
 "nbformat_minor": 5
}
