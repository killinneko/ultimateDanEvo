{
 "cells": [
  {
   "cell_type": "code",
   "execution_count": 2,
   "id": "f0a2d93f",
   "metadata": {},
   "outputs": [],
   "source": [
    "import cv2\n",
    "import mediapipe as mp\n",
    "import time\n",
    "import numpy as np\n",
    "from sklearn.metrics.pairwise import cosine_similarity\n",
    "import time"
   ]
  },
  {
   "cell_type": "code",
   "execution_count": 3,
   "id": "885c3abb",
   "metadata": {},
   "outputs": [],
   "source": [
    "def landmark2np(hand_landmarks):\n",
    "    li = []\n",
    "    for j in (hand_landmarks.landmark):\n",
    "        li.append([j.x, j.y, j.z])\n",
    "\n",
    "    return np.array(li) - li[9]\n",
    "\n",
    "\n",
    "def manual_cos(A, B):\n",
    "    # print(A)\n",
    "    dot = np.sum(A*B, axis=-1)\n",
    "    A_norm = np.linalg.norm(A, axis=-1)\n",
    "    B_norm = np.linalg.norm(B, axis=-1)\n",
    "    cos = dot / (A_norm*B_norm+1e-7)\n",
    "    print( \"cosineSimilarity :\" ,cos[1:].mean())\n",
    "\n",
    "    return cos[1:].mean()"
   ]
  },
  {
   "cell_type": "code",
   "execution_count": 4,
   "id": "5dd1a62a",
   "metadata": {},
   "outputs": [],
   "source": [
    "cap = cv2.VideoCapture(1)\n",
    "mp_hands = mp.solutions.hands\n",
    "hands = mp_hands.Hands()\n",
    "mp_draw = mp.solutions.drawing_utils\n",
    "\n",
    "saved_array = [None, None, None]\n",
    "start = -100\n",
    "score = [0, 0, 0]\n",
    "saved_no = 0"
   ]
  },
  {
   "cell_type": "code",
   "execution_count": 5,
   "id": "c021224b",
   "metadata": {},
   "outputs": [
    {
     "ename": "error",
     "evalue": "OpenCV(4.7.0) D:\\a\\opencv-python\\opencv-python\\opencv\\modules\\imgproc\\src\\color.cpp:182: error: (-215:Assertion failed) !_src.empty() in function 'cv::cvtColor'\n",
     "output_type": "error",
     "traceback": [
      "\u001b[1;31m---------------------------------------------------------------------------\u001b[0m",
      "\u001b[1;31merror\u001b[0m                                     Traceback (most recent call last)",
      "Cell \u001b[1;32mIn[5], line 3\u001b[0m\n\u001b[0;32m      1\u001b[0m \u001b[39mwhile\u001b[39;00m \u001b[39mTrue\u001b[39;00m:\n\u001b[0;32m      2\u001b[0m     _, img \u001b[39m=\u001b[39m cap\u001b[39m.\u001b[39mread()\n\u001b[1;32m----> 3\u001b[0m     imgRGB \u001b[39m=\u001b[39m cv2\u001b[39m.\u001b[39;49mcvtColor(img, cv2\u001b[39m.\u001b[39;49mCOLOR_BGR2RGB)\n\u001b[0;32m      4\u001b[0m     results \u001b[39m=\u001b[39m hands\u001b[39m.\u001b[39mprocess(imgRGB)\n\u001b[0;32m      6\u001b[0m     \u001b[39mif\u001b[39;00m results\u001b[39m.\u001b[39mmulti_hand_landmarks:\n",
      "\u001b[1;31merror\u001b[0m: OpenCV(4.7.0) D:\\a\\opencv-python\\opencv-python\\opencv\\modules\\imgproc\\src\\color.cpp:182: error: (-215:Assertion failed) !_src.empty() in function 'cv::cvtColor'\n"
     ]
    }
   ],
   "source": [
    "while True:\n",
    "    _, img = cap.read()\n",
    "    imgRGB = cv2.cvtColor(img, cv2.COLOR_BGR2RGB)\n",
    "    results = hands.process(imgRGB)\n",
    "\n",
    "    if results.multi_hand_landmarks:\n",
    "        for hand_landmarks in results.multi_hand_landmarks:\n",
    "            for i, lm in enumerate(hand_landmarks.landmark):\n",
    "                height, width, channel = img.shape\n",
    "                cx, cy = int(lm.x * width), int(lm.y * height)\n",
    "                # cv2.putText(img, str(i+1), (cx+10, cy+10), cv2.FONT_HERSHEY_PLAIN, 1, (255, 255, 255), 1, cv2.LINE_AA)\n",
    "                cv2.circle(img, (cx, cy), 2, (100, 255, 0), cv2.FILLED)\n",
    "            # mp_draw.draw_landmarks(img, hand_landmarks, mp_hands.HAND_CONNECTIONS)\n",
    "\n",
    "\n",
    "            if cv2.waitKey(1) & 0xFF == ord('s'):\n",
    "                saved_array[0] = landmark2np(hand_landmarks)\n",
    "                start = time.time()\n",
    "                saved_no = 1\n",
    "                print('no.1 saved')\n",
    "            \n",
    "            if cv2.waitKey(1) & 0xFF == ord('d'):\n",
    "                saved_array[1] = landmark2np(hand_landmarks)\n",
    "                start = time.time()\n",
    "                saved_no = 2\n",
    "                print('no.2 saved')\n",
    "            \n",
    "            if cv2.waitKey(1) & 0xFF == ord('f'):\n",
    "                saved_array[2] = landmark2np(hand_landmarks)\n",
    "                start = time.time()\n",
    "                saved_no = 3\n",
    "                print('no.3 saved')\n",
    "\n",
    "            # cos類似度でチェック\n",
    "            if saved_array[0] is not None:\n",
    "                now_array = landmark2np(hand_landmarks)\n",
    "                score[0] = manual_cos(saved_array[0], now_array)\n",
    "\n",
    "            if saved_array[1] is not None:\n",
    "                now_array = landmark2np(hand_landmarks)\n",
    "                score[1] = manual_cos(saved_array[1], now_array)\n",
    "\n",
    "            if saved_array[2] is not None:\n",
    "                now_array = landmark2np(hand_landmarks)\n",
    "                score[2] = manual_cos(saved_array[2], now_array)\n",
    "\n",
    "    # 3s 表示\n",
    "    if time.time() - start < 3:\n",
    "        cv2.putText(img, f'No.{saved_no} saved', (50, 100), cv2.FONT_HERSHEY_SIMPLEX, 3.0, (255, 255, 255), thickness=2)\n",
    "\n",
    "    elif score[0] > 0.9:\n",
    "        cv2.putText(img, 'no.1 pose', (50, 100), cv2.FONT_HERSHEY_SIMPLEX, 3.0, (255, 0, 255), thickness=2)\n",
    "\n",
    "    elif score[1] > 0.9:\n",
    "        cv2.putText(img, 'no.2 pose', (50, 100), cv2.FONT_HERSHEY_SIMPLEX, 3.0, (255, 0, 255), thickness=2)\n",
    "\n",
    "    elif score[2] > 0.9:\n",
    "        cv2.putText(img, 'no.3 pose', (50, 100), cv2.FONT_HERSHEY_SIMPLEX, 3.0, (255, 0, 255), thickness=2)\n",
    "        \n",
    "\n",
    "    cv2.imshow(\"Image\", img)\n",
    "\n",
    "\n",
    "    if cv2.waitKey(1) & 0xFF == ord('q'):\n",
    "        break"
   ]
  }
 ],
 "metadata": {
  "kernelspec": {
   "display_name": "mediapipe",
   "language": "python",
   "name": "python3"
  },
  "language_info": {
   "codemirror_mode": {
    "name": "ipython",
    "version": 3
   },
   "file_extension": ".py",
   "mimetype": "text/x-python",
   "name": "python",
   "nbconvert_exporter": "python",
   "pygments_lexer": "ipython3",
   "version": "3.9.15 (main, Nov 24 2022, 14:39:17) [MSC v.1916 64 bit (AMD64)]"
  },
  "vscode": {
   "interpreter": {
    "hash": "a0ba41b70675594d343dfa1ccdee2f3960697b61ddc114f4b52eb71cd81cc533"
   }
  }
 },
 "nbformat": 4,
 "nbformat_minor": 5
}
