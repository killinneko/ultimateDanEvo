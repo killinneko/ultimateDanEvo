{
 "cells": [
  {
   "cell_type": "code",
   "execution_count": 1,
   "id": "febf0f4a",
   "metadata": {},
   "outputs": [],
   "source": [
    "import cv2\n",
    "import ffmpeg"
   ]
  },
  {
   "cell_type": "code",
   "execution_count": 2,
   "id": "64ce8a40",
   "metadata": {},
   "outputs": [
    {
     "ename": "NameError",
     "evalue": "name 'cap' is not defined",
     "output_type": "error",
     "traceback": [
      "\u001b[1;31m---------------------------------------------------------------------------\u001b[0m",
      "\u001b[1;31mNameError\u001b[0m                                 Traceback (most recent call last)",
      "Cell \u001b[1;32mIn[2], line 3\u001b[0m\n\u001b[0;32m      1\u001b[0m path_in\u001b[39m=\u001b[39m\u001b[39m'\u001b[39m\u001b[39mmv/afleg.mp4\u001b[39m\u001b[39m'\u001b[39m\n\u001b[0;32m      2\u001b[0m path_out \u001b[39m=\u001b[39m \u001b[39m'\u001b[39m\u001b[39mmv/afleg_rend.mp4\u001b[39m\u001b[39m'\u001b[39m\n\u001b[1;32m----> 3\u001b[0m width \u001b[39m=\u001b[39m \u001b[39mint\u001b[39m(cap\u001b[39m.\u001b[39mget(cv2\u001b[39m.\u001b[39mCAP_PROP_FRAME_WIDTH))                       \n\u001b[0;32m      4\u001b[0m hight \u001b[39m=\u001b[39m \u001b[39mint\u001b[39m(cap\u001b[39m.\u001b[39mget(cv2\u001b[39m.\u001b[39mCAP_PROP_FRAME_HEIGHT))    \n\u001b[0;32m      5\u001b[0m fourcc \u001b[39m=\u001b[39m cv2\u001b[39m.\u001b[39mVideoWriter_fourcc(\u001b[39m'\u001b[39m\u001b[39mm\u001b[39m\u001b[39m'\u001b[39m, \u001b[39m'\u001b[39m\u001b[39mp\u001b[39m\u001b[39m'\u001b[39m, \u001b[39m'\u001b[39m\u001b[39m4\u001b[39m\u001b[39m'\u001b[39m, \u001b[39m'\u001b[39m\u001b[39mv\u001b[39m\u001b[39m'\u001b[39m)                  \n",
      "\u001b[1;31mNameError\u001b[0m: name 'cap' is not defined"
     ]
    }
   ],
   "source": [
    "path_in='mv/afleg.mp4'\n",
    "path_out = 'mv/afleg_rend.mp4'\n",
    "cap = cv2.VideoCapture(path_in)\n",
    "width = int(cap.get(cv2.CAP_PROP_FRAME_WIDTH))                       \n",
    "hight = int(cap.get(cv2.CAP_PROP_FRAME_HEIGHT))    \n",
    "fourcc = cv2.VideoWriter_fourcc('m', 'p', '4', 'v')                  \n",
    "fps_old = cap.get(cv2.CAP_PROP_FPS) #old_fps\n",
    "fps_new = 5         #renderd_fps\n",
    "color_flag= True    #true=color,False=grey \n",
    "\n",
    "rendered = cv2.VideoWriter(path_out, fourcc, fps_new, (width, hight), color_flag)\n",
    "\n",
    "print(\"frameRendering  \" + str(round(fps_old,2)) + \"  to  \" + str(fps_new))\n",
    "\n",
    "thresh = fps_old / fps_new #フレーム何枚につき1枚処理するか\n",
    "frame_counter = 0"
   ]
  },
  {
   "cell_type": "code",
   "execution_count": null,
   "id": "8b887cfc",
   "metadata": {},
   "outputs": [],
   "source": [
    "cap = cv2.VideoCapture() #読み込む動画のパス\n",
    "while True:\n",
    "    # 1フレームずつ取得する。\n",
    "    ret, frame = cap.read()\n",
    "    if not ret:\n",
    "        break\n",
    "    frame_counter += 1\n",
    "    print(\"frame_count\" + str(frame_counter))\n",
    "\n",
    "    if (frame_counter >= thresh): #フレームカウントがthreshを超えたら処理する\n",
    "      # 処理\n",
    "      frame_counter = 0 #フレームカウントを０に戻す\n",
    "\n",
    "    if cv2.waitKey(1) & 0xFF == ord('d'):\n",
    "        break\n",
    "cap.release()"
   ]
  },
  {
   "cell_type": "code",
   "execution_count": 4,
   "id": "ade5c455",
   "metadata": {},
   "outputs": [
    {
     "ename": "AttributeError",
     "evalue": "module 'ffmpeg' has no attribute 'input'",
     "output_type": "error",
     "traceback": [
      "\u001b[1;31m---------------------------------------------------------------------------\u001b[0m",
      "\u001b[1;31mAttributeError\u001b[0m                            Traceback (most recent call last)",
      "Cell \u001b[1;32mIn[4], line 1\u001b[0m\n\u001b[1;32m----> 1\u001b[0m movie \u001b[39m=\u001b[39m ffmpeg\u001b[39m.\u001b[39;49minput(path_in)\n\u001b[0;32m      2\u001b[0m refps_movie  \u001b[39m=\u001b[39m movie\u001b[39m.\u001b[39mfilter(\u001b[39m\"\u001b[39m\u001b[39mfps\u001b[39m\u001b[39m\"\u001b[39m,fps\u001b[39m=\u001b[39mfps_new,\u001b[39mround\u001b[39m\u001b[39m=\u001b[39m\u001b[39m\"\u001b[39m\u001b[39mup\u001b[39m\u001b[39m\"\u001b[39m)\n\u001b[0;32m      4\u001b[0m refps_movie\u001b[39m.\u001b[39moutput(path_out)\n",
      "\u001b[1;31mAttributeError\u001b[0m: module 'ffmpeg' has no attribute 'input'"
     ]
    }
   ],
   "source": [
    "movie = ffmpeg.input(path_in)\n",
    "refps_movie  = movie.filter(\"fps\",fps=fps_new,round=\"up\")\n",
    "\n",
    "refps_movie.output(path_out)"
   ]
  }
 ],
 "metadata": {
  "kernelspec": {
   "display_name": "mediapipe",
   "language": "python",
   "name": "python3"
  },
  "language_info": {
   "codemirror_mode": {
    "name": "ipython",
    "version": 3
   },
   "file_extension": ".py",
   "mimetype": "text/x-python",
   "name": "python",
   "nbconvert_exporter": "python",
   "pygments_lexer": "ipython3",
   "version": "3.9.15 (main, Nov 24 2022, 14:39:17) [MSC v.1916 64 bit (AMD64)]"
  },
  "vscode": {
   "interpreter": {
    "hash": "a0ba41b70675594d343dfa1ccdee2f3960697b61ddc114f4b52eb71cd81cc533"
   }
  }
 },
 "nbformat": 4,
 "nbformat_minor": 5
}
